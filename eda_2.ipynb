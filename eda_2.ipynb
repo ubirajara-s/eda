{
 "cells": [
  {
   "cell_type": "code",
   "execution_count": 7,
   "id": "5f14207f-be28-4283-9314-1e02e715db8e",
   "metadata": {
    "editable": true,
    "slideshow": {
     "slide_type": ""
    },
    "tags": []
   },
   "outputs": [],
   "source": [
    "# Fundamentos de Ciência de Dados\n",
    "## PPGI/UFRJ 2024.2\n",
    "### Profs Sergio Serra e Jorge Zavaleta\n",
    "### Aluno Ubirajara S. Santos"
   ]
  },
  {
   "cell_type": "code",
   "execution_count": 8,
   "id": "21fc0eda-8216-4ae5-ba67-9a060afea2cd",
   "metadata": {},
   "outputs": [],
   "source": [
    "import prov\n",
    "import os"
   ]
  },
  {
   "cell_type": "code",
   "execution_count": 9,
   "id": "4ac38fd8-c6aa-4138-ae54-2a103a3f52c2",
   "metadata": {},
   "outputs": [],
   "source": [
    "OUTPUT_DIR = './dados/saidas'\n",
    "os.makedirs(OUTPUT_DIR, exist_ok=True)"
   ]
  },
  {
   "cell_type": "code",
   "execution_count": 31,
   "id": "38838849-a486-40fb-a8c1-35e945ee947a",
   "metadata": {},
   "outputs": [],
   "source": [
    "# Fontes de Dados\n",
    "data_sources = {\n",
    "     \"amostras_rochas_fluidos\": {\n",
    "        \"url\": \"https://www.gov.br/anp/pt-br/centrais-de-conteudo/dados-abertos/arquivos-amostras-de-rochas-e-fluidos/acervo-de-amostras/consolidacao-2023.zip\",\n",
    "        \"type\": \"zip\"},\n",
    "     \"setores_sirgas\": {\n",
    "        \"url\": \"https://www.gov.br/anp/pt-br/assuntos/exploracao-e-producao-de-oleo-e-gas/estudos-geologicos-e-geofisicos/arquivos-classificacao-de-modelos-exploratorios/setores-sirgas.zip\",\n",
    "        \"type\": \"zip\"},\n",
    "     \"blocos_exploratorios\": {\n",
    "        \"url\": \"https://gishub.anp.gov.br/geoserver/BD_ANP/ows?service=WFS&version=1.0.0&request=GetFeature&typeName=BD_ANP%3ABLOCOS_EXPLORATORIOS_SIRGAS&maxFeatures=40000&outputFormat=SHAPE-ZIP\",\n",
    "        \"type\": \"zip\"},\n",
    "     \"campos_producao\": {\n",
    "        \"url\": \"https://gishub.anp.gov.br/geoserver/BD_ANP/ows?service=WFS&version=1.0.0&request=GetFeature&typeName=BD_ANP%3ACAMPOS_PRODUCAO_SIRGAS&maxFeatures=40000&outputFormat=SHAPE-ZIP\",\n",
    "        \"type\": \"zip\"},\n",
    "     \"reservas_nacionais_hc\": {\n",
    "        \"url\": \"https://www.gov.br/anp/pt-br/centrais-de-conteudo/dados-estatisticos/arquivos-reservas-nacionais-de-petroleo-e-gas-natural/tabela-dados-bar-2023.xlsx\",\n",
    "        \"type\": \"xlsx\"},\n",
    "     \"pocos_perfurados_2023\": {\n",
    "        \"url\": \"https://www.gov.br/anp/pt-br/centrais-de-conteudo/dados-abertos/arquivos-acervo-de-dados-tecnicos/pocos-publicos-2023.csv\",\n",
    "        \"type\": \"csv\"},\n",
    "     \"tabela_levantamentos_geoquimica\": {\n",
    "        \"url\": \"https://www.gov.br/anp/pt-br/centrais-de-conteudo/dados-abertos/arquivos-acervo-de-dados-tecnicos/tabela-levantamentos-geoquimicos.csv\",\n",
    "        \"type\": \"csv\"},\n",
    "     \"levantamento_sismico_2023\": {\n",
    "        \"url\": \"https://www.gov.br/anp/pt-br/centrais-de-conteudo/dados-abertos/arquivos-acervo-de-dados-tecnicos/sismicos-publicos-2023.csv\",\n",
    "        \"type\": \"csv\"},\n",
    "     \"tabela_pocos_2024\": {\n",
    "        \"url\": \"./dados/entradas/Tabela_pocos_2024_Novembro_24.csv\",\n",
    "        \"type\": \"csv\",\"sep\": \";\"},\n",
    "     \"tabela_dados_geoquimica\": {\n",
    "        \"url\": \"https://www.gov.br/anp/pt-br/centrais-de-conteudo/dados-abertos/arquivos-acervo-de-dados-tecnicos/tabela-dados-geoquimicos.csv\",\n",
    "        \"type\": \"csv\"},\n",
    "}"
   ]
  },
  {
   "cell_type": "code",
   "execution_count": 32,
   "id": "d2c3e5eb-413c-433b-ad53-5bfb214de691",
   "metadata": {
    "editable": true,
    "slideshow": {
     "slide_type": ""
    },
    "tags": []
   },
   "outputs": [],
   "source": [
    "import sys, datetime\n",
    "from prov.model import ProvDocument, Namespace\n",
    "from prov.dot import prov_to_dot\n",
    "from IPython.display import Image\n",
    "\n",
    "def gerar_prov_outputs():\n",
    "    entity = \"EDA-PROV\"\n",
    "    #Gerando saída gráfica de proveniência\n",
    "    dot = prov_to_dot(doc_prov)\n",
    "    graph = entity+\".png\"\n",
    "    dot.write_png(graph)\n",
    "\n",
    "    #Gerando a Serialização - Output XML\n",
    "    doc_prov.serialize(entity + \".xml\", format='xml') \n",
    "\n",
    "    #Generating the Serialization - Output Turtle\n",
    "    doc_prov.serialize(entity + \".ttl\", format='rdf', rdf_format='ttl')\n",
    "\n",
    "def adding_namespaces(document_prov):\n",
    "    # Declaring namespaces for various prefixes used in the excution of Randon Walk Experiment\n",
    "    document_prov.add_namespace('prov', 'http://www.w3.org/ns/prov#')\n",
    "    document_prov.add_namespace('void', 'http://vocab.deri.ie/void#')\n",
    "    document_prov.add_namespace('ufrj', 'https://www.ufrj.br')\n",
    "    document_prov.add_namespace('ex', 'http://example.org/')  # Exemplo de namespace\n",
    "    document_prov.add_namespace('prov', 'http://www.w3.org/ns/prov#')     # Padrões PROV\n",
    "    document_prov.add_namespace('dc', 'http://purl.org/dc/terms/')        # Metadados Dublin Core\n",
    "    document_prov.add_namespace('foaf', 'http://xmlns.com/foaf/0.1/')     # Agentes FOAF\n",
    "    document_prov.add_namespace('schema', 'http://schema.org/')           # Dados estruturados Schema.org\n",
    "    document_prov.add_namespace('ufrj-ppgi', 'http://www.ufrj.br/ppgi/')  # UFRJ PPGI\n",
    "    document_prov.add_namespace('anp', 'https://www.gov.br/anp/pt-br')    # ANP - Agência Nacional do Petróleo, Gás Natural e Biocombustíveis\n",
    "    document_prov.add_namespace('anp-dados_tec','https://www.gov.br/anp/pt-br/centrais-de-conteudo/dados-abertos/acervo-de-dados-tecnicos') # ANP - Acervo de Dados Técnicos \n",
    "    document_prov.add_namespace('petrobras','https://petrobras.com.br/')  # PETROBRAS\n",
    "    return document_prov\n",
    "\n",
    "def create_agents(document_prov):\n",
    "    \n",
    "    #creating agents\n",
    "    dagnts={}\n",
    "    dagnts[\"ag-ANP\"] = document_prov.agent(\"anp:ANP\", {\"prov:type\":\"prov:Organization\", \"foaf:name\":\"Agência Nacional do Petróleo, Gás Natural e Biocombustíveis\"})\n",
    "    dagnts[\"ag-ufrj\"] = document_prov.agent(\"ufrj:UFRJ\", {\"prov:type\":\"prov:Organization\", \"foaf:name\":\"Universidade Federal do Rio de Janeiro\"})\n",
    "    dagnts[\"ag-ppgi\"] = document_prov.agent(\"ufrj:PPGI\", {\"prov:type\":\"prov:Organization\", \"foaf:name\":\"Programa de Pós Graduação em Informática\"})\n",
    "    dagnts[\"ag-greco\"] = document_prov.agent(\"ufrj:GRECO\", {\"prov:type\":\"prov:Organization\", \"foaf:name\":\"Grupo de Engenharia do Conhecimento\"})\n",
    "    dagnts[\"ag-author-ubirajara\"] = document_prov.agent(\"ufrj:Ubirajara\", {\"prov:type\":\"prov:Person\", \"foaf:name\":\"Ubirajara Simões Santos\", \"foaf:mbox\":\"ubirajas@hotmail.com\"})\n",
    "    dagnts[\"ag-author-sergio\"] = document_prov.agent(\"ufrj:Sergio\", {\"prov:type\":\"prov:Person\", \"foaf:name\":\"Sergio Serra\", \"foaf:mbox\":\"serra@ppgi.ufrj.br\"})\n",
    "    dagnts[\"ag-author-jorge\"] = document_prov.agent(\"ufrj:Jorge\", {\"prov:type\":\"prov:Person\", \"foaf:name\":\"Jorge Zavaleta\", \"foaf:mbox\":\"zavaleta@pet-si.ufrrj.br\"})\n",
    "    dagnts[\"ag-petrobras\"] = document_prov.agent(\"petrobras:Petrobras\", {\"prov:type\":\"prov:Organization\", \"foaf:name\":\"Petróleo Brasiliero S.A\"})\n",
    "    return dagnts\n",
    "\n",
    "def associate_ufrj_agents(agents_dictionary):\n",
    "    agents_dictionary[\"ag-ppgi\"].actedOnBehalfOf(agents_dictionary[\"ag-ufrj\"])\n",
    "    agents_dictionary[\"ag-greco\"].actedOnBehalfOf(agents_dictionary[\"ag-ppgi\"])\n",
    "    agents_dictionary[\"ag-author-ubirajara\"].actedOnBehalfOf(agents_dictionary[\"ag-greco\"])\n",
    "    agents_dictionary[\"ag-author-ubirajara\"].actedOnBehalfOf(agents_dictionary[\"ag-petrobras\"])\n",
    "    agents_dictionary[\"ag-author-sergio\"].actedOnBehalfOf(agents_dictionary[\"ag-ppgi\"])\n",
    "    agents_dictionary[\"ag-author-jorge\"].actedOnBehalfOf(agents_dictionary[\"ag-ppgi\"])\n",
    "    return agents_dictionary\n",
    "\n",
    "def create_initial_activities(document_prov):\n",
    "    #creating activities\n",
    "    dataDownloadDatasets = datetime.datetime.strptime('29/11/24', '%d/%m/%y')\n",
    "    \n",
    "    dativs={}\n",
    "    dativs[\"act-create-ds\"] = document_prov.activity(\"anp:create-dataset\")\n",
    "    dativs[\"act-extract-ds\"] = document_prov.activity(\"ufrj:extract-dataset\", dataDownloadDatasets, None)\n",
    "    dativs[\"act-create-ds-eda\"] = document_prov.activity(\"ufrj:create-ds-eda\")\n",
    "    dativs[\"act-save-ds\"] = document_prov.activity(\"ufrj:save-datasets\", dataDownloadDatasets, None)\n",
    "    return dativs\n",
    "\n",
    "def cria_entidades_iniciais(document_prov):\n",
    "    #creating entidades\n",
    "    dents={}\n",
    "    \n",
    "    # Entidade para amostras de rochas e fluidos\n",
    "    dents[\"ent-amostras-rochas-fluidos\"] = document_prov.entity('anp:amostras_rochas_fluidos', {'prov:label': 'Dataset com amostras de rochas e fluidos', 'prov:type': 'void:Dataset', 'prov:description': 'Consolidado 2023 de amostras disponíveis.', 'prov:format': 'zip' })\n",
    "    # Entidade para setores SIRGAS\n",
    "    dents[\"ent-setores-sirgas\"] = document_prov.entity('anp:setores_sirgas', {'prov:label': 'Setores SIRGAS', 'prov:type': 'void:Dataset', 'prov:description': 'Modelos exploratórios em formato SIRGAS.', 'prov:format': 'zip'})\n",
    "    # Entidade para blocos exploratórios\n",
    "    dents[\"ent-blocos-exploratorios\"] = document_prov.entity('anp:blocos_exploratorios', {'prov:label': 'Blocos exploratórios', 'prov:type': 'void:Dataset', 'prov:description': 'Blocos exploratórios com dados geoespaciais.', 'prov:format': 'zip'})\n",
    "    # Entidade para campos de produção\n",
    "    dents[\"ent-campos-producao\"] = document_prov.entity('anp:campos_producao', {'prov:label': 'Campos de Produção', 'prov:type': 'void:Dataset', 'prov:description': 'Dados dos campos de produção em formato SIRGAS.', 'prov:format': 'zip'})\n",
    "    # Entidade para reservas nacionais de hidrocarbonetos\n",
    "    dents[\"ent-reservas-nacionais-hc\"] = document_prov.entity('anp:reservas_nacionais_hc',{'prov:label': 'Reservas Nacionais de Hidrocarbonetos', 'prov:type': 'void:Dataset', 'prov:description': 'Tabela com dados sobre reservas nacionais.', 'prov:format': 'xlsx'})\n",
    "    # Entidade para poços perfurados (2023)\n",
    "    dents[\"ent-pocos-perfurados-2023\"] = document_prov.entity('anp:pocos_perfurados_2023',{'prov:label': 'Poços perfurados - 2023', 'prov:type': 'void:Dataset', 'prov:description': 'CSV com os poços perfurados no ano de 2023.', 'prov:format': 'csv'})\n",
    "    # Entidade para tabela de levantamentos geoquímicos\n",
    "    dents[\"ent-levantamento-geoquimica\"] = document_prov.entity('anp:levantamento_geoquimica',{'prov:label': 'Tabela de levantamentos geoquímicos', 'prov:type': 'void:Dataset', 'prov:description': 'Dados sobre levantamentos geoquímicos.', 'prov:format': 'csv'})\n",
    "     # Entidade para tabela de dados geoquímicos\n",
    "    dents[\"ent-tabela-geoquimica\"] = document_prov.entity('anp:tabela_geoquimica',{'prov:label': 'Tabela_dados_geoquimica', 'prov:type': 'void:Dataset', 'prov:description': 'Dados geoquímicos.', 'prov:format': 'csv'})\n",
    "     # Entidade para levantamento sísmico (2023)\n",
    "    dents[\"ent-levantamento-sismico-2023\"] = document_prov.entity('anp:levantamento_sismico_2023', {'prov:label': 'Levantamento Sísmico - 2023', 'prov:type': 'void:Dataset', 'prov:description': 'CSV com dados de levantamentos sísmicos públicos.', 'prov:format': 'csv'})\n",
    "    # Entidade para tabela de poços (2024)\n",
    "    dents[\"ent-tabela-pocos-2024\"] = document_prov.entity('anp:tabela_pocos_2024', {'prov:label': 'Tabela de Poços - 2024', 'prov:type': 'void:Dataset', 'prov:description': 'Tabela CSV com dados atualizados de poços para 2024.', 'prov:format': 'csv'})\n",
    "    # Entidade para tabela de geoquímicos (2021)     \n",
    "    dents[\"ent-anp-dados_tec-ds\"] = document_prov.entity('anp-anp-dados_tec:dados_geoq.csv', {'prov:label': 'Dataset com dados de geoquímica (atualizado em 06/08/2021)', 'prov:type': 'void:Dataset'})\n",
    "    # Entidade script python\n",
    "    dents[\"ent-eda-ipynb\"] = document_prov.entity('ufrj:eda-ipyn', {'prov:label': \"Notebook Python utilizado no trabalho\", 'prov:type': 'foaf:Document'})\n",
    "    # Entidade Git\n",
    "    dents[\"ent-git-eda\"] = document_prov.entity('anp:github-eda', {'prov:label': 'Repositorio Eba da ANP', 'prov:type': 'prov:Collection'})\n",
    "    return dents\n",
    "\n",
    "def initial_association_agents_activities_entities(document_prov, dictionary_agents, \n",
    "                                                   dictionary_activities, dictionary_entities):\n",
    "    \n",
    "    #Associate activity of generate dataset with ANP agent\n",
    "    document_prov.wasAssociatedWith(dictionary_activities[\"act-create-ds\"], dictionary_agents[\"ag-anp\"])\n",
    "    \n",
    "    #Associating datasets with activities of generate eba datasets\n",
    "    document_prov.wasGeneratedBy(dictionary_entities[\"ent-amostras-rochas-fluidos\"], dictionary_activities[\"act-create-ds\"])\n",
    "    document_prov.wasGeneratedBy(dictionary_entities[\"ent-setores-sirgas\"], dictionary_activities[\"act-create-ds\"])    \n",
    "    document_prov.wasGeneratedBy(dictionary_entities[\"ent-blocos-exploratorios\"], dictionary_activities[\"act-create-ds\"])\n",
    "    document_prov.wasGeneratedBy(dictionary_entities[\"ent-campos-producao\"], dictionary_activities[\"act-create-ds\"])\n",
    "    document_prov.wasGeneratedBy(dictionary_entities[\"ent-reservas-nacionais-hc\"], dictionary_activities[\"act-create-ds\"])\n",
    "    document_prov.wasGeneratedBy(dictionary_entities[\"ent-pocos-perfurados-2023\"], dictionary_activities[\"act-create-ds\"])\n",
    "    document_prov.wasGeneratedBy(dictionary_entities[\"ent-levantamento-geoquimica\"], dictionary_activities[\"act-create-ds\"])\n",
    "    document_prov.wasGeneratedBy(dictionary_entities[\"ent-levantamento-sismico-2023\"], dictionary_activities[\"act-create-ds\"])\n",
    "    document_prov.wasGeneratedBy(dictionary_entities[\"ent-tabela-pocos-2024\"], dictionary_activities[\"act-create-ds\"])\n",
    "    document_prov.wasGeneratedBy(dictionary_entities[\"ent-anp-dados_tec-ds\"], dictionary_activities[\"act-create-ds\"])\n",
    "    document_prov.wasGeneratedBy(dictionary_entities[\"ent-dredfp\"], dictionary_activities[\"act-create-ds\"])\n",
    "    document_prov.wasGeneratedBy(dictionary_entities[\"ent-dredfp\"], dictionary_activities[\"act-create-ds\"])\n",
    "    \n",
    "    \n",
    "    #Associating ZIPs, XLSX, CSV com entities do dataset genérico\n",
    "    #document_prov.wasDerivedFrom(dictionary_entities[\"ent-dredfp2021-zip\"], dictionary_entities[\"ent-dredfp\"])  \n",
    "       \n",
    "    #associate activity of eda, com autor\n",
    "    document_prov.wasAssociatedWith(dictionary_activities[\"act-create-ds-eda\"], dictionary_agents[\"ag-author-ubirajara\"])   \n",
    "\n",
    "    #associate notebook agent with eba dataset\n",
    "    #document_prov.wasAssociatedWith(dictionary_activities[\"act-create-ds-eda\"], dictionary_agents[\"ag-drecvm-ipynb\"])    \n",
    "    \n",
    "    #associate activities dataset storing with greco group\n",
    "    #document_prov.wasAssociatedWith(dictionary_activities[\"act-save-datasets\"], dictionary_agents[\"ag-greco\"])\n",
    "    #document_prov.used(dictionary_activities[\"act-save-datasets\"],dictionary_entities[\"ent-cademp-ds\"])\n",
    "       \n",
    "    #associate obinvest github repository with store datasets activity\n",
    "    document_prov.wasGeneratedBy(dictionary_entities[\"ent-git-eda\"], dictionary_activities[\"act-save-datasets\"])\n",
    "    \n",
    "    #detailing csvs in github\n",
    "    #document_prov.wasDerivedFrom(dictionary_entities[\"ent-cademp-ds\"], dictionary_entities[\"ent-git-obinvest\"])\n",
    "    #document_prov.wasDerivedFrom(dictionary_entities[\"ent-dreitr2011-ds\"], dictionary_entities[\"ent-git-obinvest\"])\n",
    "\n",
    "def initProvenance():\n",
    "    # criando um documento vazio de proveniência\n",
    "    doc_prov = ProvDocument()\n",
    "\n",
    "    #creating namespacing of provenabce document\n",
    "    doc_prov = adding_namespaces(doc_prov)\n",
    "    \n",
    "    #create agents\n",
    "    agents_dict = create_agents(doc_prov)\n",
    "    \n",
    "    #creating agents hierarchy\n",
    "    agents_dict = associate_ufrj_agents(agents_dict)\n",
    "    \n",
    "    #create initial activities\n",
    "    activities_dict = create_initial_activities(doc_prov)\n",
    "    \n",
    "    #create initial entities\n",
    "    entities_dict = create_initial_entities(doc_prov)\n",
    "    \n",
    "    #initial provenance associations\n",
    "    initial_association_agents_activities_entities(doc_prov, agents_dict, activities_dict, entities_dict)\n",
    "    \n",
    "    #return provenance objects\n",
    "    return doc_prov, agents_dict, activities_dict, entities_dict\n"
   ]
  },
  {
   "cell_type": "code",
   "execution_count": 81,
   "id": "66ffb913-8d8d-47e9-b7a3-3c2e9f98ed5a",
   "metadata": {
    "editable": true,
    "slideshow": {
     "slide_type": ""
    },
    "tags": []
   },
   "outputs": [
    {
     "ename": "ModuleNotFoundError",
     "evalue": "No module named 'openpyxl'",
     "output_type": "error",
     "traceback": [
      "\u001b[1;31m---------------------------------------------------------------------------\u001b[0m",
      "\u001b[1;31mModuleNotFoundError\u001b[0m                       Traceback (most recent call last)",
      "Cell \u001b[1;32mIn[81], line 3\u001b[0m\n\u001b[0;32m      1\u001b[0m \u001b[38;5;28;01mimport\u001b[39;00m \u001b[38;5;21;01mpandas\u001b[39;00m \u001b[38;5;28;01mas\u001b[39;00m \u001b[38;5;21;01mpd\u001b[39;00m\n\u001b[0;32m      2\u001b[0m \u001b[38;5;28;01mimport\u001b[39;00m \u001b[38;5;21;01mmatplotlib\u001b[39;00m\n\u001b[1;32m----> 3\u001b[0m \u001b[38;5;28;01mimport\u001b[39;00m \u001b[38;5;21;01mopenpyxl\u001b[39;00m\n",
      "\u001b[1;31mModuleNotFoundError\u001b[0m: No module named 'openpyxl'"
     ]
    }
   ],
   "source": [
    "import pandas as pd\n",
    "import matplotlib\n",
    "import openpyxl\n"
   ]
  },
  {
   "cell_type": "code",
   "execution_count": 107,
   "id": "df4ff600-8332-4879-b792-63dcc13dc2f5",
   "metadata": {},
   "outputs": [],
   "source": [
    "def load_data_from_source(source_name, data_sources):\n",
    "    \"\"\"\n",
    "    Carrega dados com base no nome da fonte e na configuração em data_sources.\n",
    "\n",
    "    Returns:\n",
    "        pd.DataFrame: DataFrame com os dados carregados, ou None se houver erro.\n",
    "    \"\"\"\n",
    "    source = data_sources.get(source_name)\n",
    "    if not source:\n",
    "        print(f\"Fonte '{source_name}' não encontrada em data_sources.\")\n",
    "        return None\n",
    "\n",
    "    file_type = source.get(\"type\")\n",
    "    url = source.get(\"url\")\n",
    "    sep = source.get(\"sep\", \";\")  # Valor padrão para CSV\n",
    "    encoding = source.get(\"encoding\", \"utf-8\")  # Valor padrão para codificação\n",
    "    date_columns = source.get(\"date_columns\", [])  \n",
    "\n",
    "    try:\n",
    "        if file_type == \"csv\":\n",
    "             # Caso específico para tabela_pocos_2024\n",
    "            if source_name == \"tabela_pocos_2024\":\n",
    "                df = pd.read_csv(url, encoding=\"ANSI\", sep=sep)\n",
    "            # Caso específico para tabela_dados_geoquimica\n",
    "            elif source_name == \"tabela_dados_geoquimica\":\n",
    "                df = pd.read_csv(url, sep=sep, encoding=encoding, header=1)  # Cabeçalho na segunda linha\n",
    "            else:\n",
    "                df = pd.read_csv(url, sep=sep, encoding=encoding, parse_dates=date_columns)\n",
    "        elif file_type == \"xlsx\":\n",
    "            df = pd.read_excel(url)\n",
    "        else:\n",
    "            print(f\"Tipo de arquivo '{file_type}' não suportado.\")\n",
    "            return None\n",
    "\n",
    "        print(f\"Dados carregados com sucesso para '{source_name}'.\")\n",
    "        return df\n",
    "    except Exception as e:\n",
    "        print(f\"Erro ao carregar dados de '{source_name}': {e}\")\n",
    "        return None"
   ]
  },
  {
   "cell_type": "code",
   "execution_count": 108,
   "id": "0c0ab2cc-cc26-432b-a2e3-b3f6e10faa81",
   "metadata": {
    "editable": true,
    "slideshow": {
     "slide_type": ""
    },
    "tags": []
   },
   "outputs": [
    {
     "name": "stdout",
     "output_type": "stream",
     "text": [
      "Dados carregados com sucesso para 'tabela_pocos_2024'.\n"
     ]
    }
   ],
   "source": [
    "df_pocos_orig = load_data_from_source(\"tabela_pocos_2024\", data_sources)"
   ]
  },
  {
   "cell_type": "code",
   "execution_count": 109,
   "id": "3f13afdf-3604-4ff8-8563-e628e42fff98",
   "metadata": {},
   "outputs": [
    {
     "data": {
      "text/plain": [
       "(30827, 60)"
      ]
     },
     "execution_count": 109,
     "metadata": {},
     "output_type": "execute_result"
    }
   ],
   "source": [
    "df_pocos_orig.shape"
   ]
  },
  {
   "cell_type": "code",
   "execution_count": 110,
   "id": "e93ead43-b565-4fa0-b0c7-fec6078bf061",
   "metadata": {},
   "outputs": [
    {
     "data": {
      "text/plain": [
       "Index(['POCO', 'CADASTRO', 'OPERADOR', 'POCO_OPERADOR', 'ESTADO', 'BACIA',\n",
       "       'BLOCO', 'SIG_CAMPO', 'CAMPO', 'TERRA_MAR', 'POCO_POS_ANP', 'TIPO',\n",
       "       'CATEGORIA', 'RECLASSIFICACAO', 'SITUACAO', 'INÍCIO', 'TÉRMINO',\n",
       "       'CONCLUSAO', 'TITULARIDADE', 'LATITUDE_BASE_4C', 'LONGITUDE_BASE_4C',\n",
       "       'LATITUDE_BASE_DD', 'LONGITUDE_BASE_DD', 'DATUM_HORIZONTAL',\n",
       "       'TIPO_DE_COORDENADA_DE_BASE', 'DIRECAO', 'PROFUNDIDADE_VERTICAL_M',\n",
       "       'PROFUNDIDADE_SONDADOR_M', 'PROFUNDIDADE_MEDIDA_M',\n",
       "       'REFERENCIA_DE_PROFUNDIDADE', 'MESA_ROTATIVA', 'COTA_ALTIMETRICA_M',\n",
       "       'LAMINA_D_AGUA_M', 'DATUM_VERTICAL', 'UNIDADE_ESTRATIGRAFICA',\n",
       "       'GEOLOGIA_GRUPO_FINAL', 'GEOLOGIA_FORMACAO_FINAL',\n",
       "       'GEOLOGIA_MEMBRO_FINAL', 'CDPE', 'AGP', 'PC', 'PAG',\n",
       "       'PERFIS_CONVENCIONAIS', 'DURANTE_PERFURACAO', 'PERFIS_DIGITAIS',\n",
       "       'PERFIS_PROCESSADOS', 'PERFIS_ESPECIAIS', 'AMOSTRA_LATERAL', 'SISMICA',\n",
       "       'TABELA_TEMPO_PROFUNDIDADE', 'DADOS_DIRECIONAIS', 'TESTE_A_CABO',\n",
       "       'TESTE_DE_FORMACAO', 'CANHONEIO', 'TESTEMUNHO', 'GEOQUIMICA',\n",
       "       'SIG_SONDA', 'NOM_SONDA', 'ATINGIU_PRESAL', 'DHA_ATUALIZACAO'],\n",
       "      dtype='object')"
      ]
     },
     "execution_count": 110,
     "metadata": {},
     "output_type": "execute_result"
    }
   ],
   "source": [
    "df_pocos_orig.columns\n"
   ]
  },
  {
   "cell_type": "code",
   "execution_count": 111,
   "id": "498bbbcd-bf7d-465c-97dc-0e853178826a",
   "metadata": {},
   "outputs": [
    {
     "name": "stdout",
     "output_type": "stream",
     "text": [
      "Dados carregados com sucesso para 'levantamento_sismico_2023'.\n"
     ]
    }
   ],
   "source": [
    "df_sismica_2023_orig = load_data_from_source(\"levantamento_sismico_2023\", data_sources)"
   ]
  },
  {
   "cell_type": "code",
   "execution_count": 112,
   "id": "1a173f9e-4f95-4b04-9ad1-9d22213f7e44",
   "metadata": {},
   "outputs": [
    {
     "data": {
      "text/plain": [
       "(52, 15)"
      ]
     },
     "execution_count": 112,
     "metadata": {},
     "output_type": "execute_result"
    }
   ],
   "source": [
    "df_sismica_2023_orig.shape\n"
   ]
  },
  {
   "cell_type": "code",
   "execution_count": 113,
   "id": "ee466c73-7e1a-43e8-a2a5-84e351f624af",
   "metadata": {},
   "outputs": [
    {
     "data": {
      "text/plain": [
       "Index(['Nome', 'Categoria', 'Tipo', 'Autorização', 'Inicio', 'Término Real',\n",
       "       'Confidencialidade', 'Público em', 'Ato Normativo', 'Tecnologia',\n",
       "       'Bloco', 'Campo', 'Bacia', 'E.A.D', 'Operadora'],\n",
       "      dtype='object')"
      ]
     },
     "execution_count": 113,
     "metadata": {},
     "output_type": "execute_result"
    }
   ],
   "source": [
    "df_sismica_2023_orig.columns"
   ]
  },
  {
   "cell_type": "code",
   "execution_count": 114,
   "id": "a618a908-1dfa-41cb-b4c0-00d8236b489d",
   "metadata": {},
   "outputs": [
    {
     "name": "stdout",
     "output_type": "stream",
     "text": [
      "Dados carregados com sucesso para 'tabela_levantamentos_geoquimica'.\n"
     ]
    }
   ],
   "source": [
    "df_lev_geoq_2022 = load_data_from_source(\"tabela_levantamentos_geoquimica\", data_sources)"
   ]
  },
  {
   "cell_type": "code",
   "execution_count": 115,
   "id": "90473cd9-0cc0-472d-ac14-2212fdd5729f",
   "metadata": {},
   "outputs": [
    {
     "data": {
      "text/plain": [
       "(69, 8)"
      ]
     },
     "execution_count": 115,
     "metadata": {},
     "output_type": "execute_result"
    }
   ],
   "source": [
    "df_lev_geoq_2022.shape"
   ]
  },
  {
   "cell_type": "code",
   "execution_count": 116,
   "id": "b51f81e5-229e-4a00-bc95-a3fac7b27125",
   "metadata": {},
   "outputs": [
    {
     "data": {
      "text/plain": [
       "Index(['Nome', 'Bacia', 'Natureza da atividade', 'Início Aquisição',\n",
       "       'Término Aquisição', 'Ambiente', 'Confidencialidade', 'Shape'],\n",
       "      dtype='object')"
      ]
     },
     "execution_count": 116,
     "metadata": {},
     "output_type": "execute_result"
    }
   ],
   "source": [
    "df_lev_geoq_2022.columns"
   ]
  },
  {
   "cell_type": "code",
   "execution_count": 117,
   "id": "d67b0050-2ad2-4ef5-87f5-d718b5df1309",
   "metadata": {},
   "outputs": [
    {
     "name": "stdout",
     "output_type": "stream",
     "text": [
      "Dados carregados com sucesso para 'tabela_dados_geoquimica'.\n"
     ]
    }
   ],
   "source": [
    "df_geoq_2021 = load_data_from_source(\"tabela_dados_geoquimica\", data_sources)"
   ]
  },
  {
   "cell_type": "code",
   "execution_count": 118,
   "id": "203fc8ac-810d-4b4a-84ed-c0cb164b0914",
   "metadata": {},
   "outputs": [
    {
     "data": {
      "text/plain": [
       "(4665, 38)"
      ]
     },
     "execution_count": 118,
     "metadata": {},
     "output_type": "execute_result"
    }
   ],
   "source": [
    "df_geoq_2021.shape\n"
   ]
  },
  {
   "cell_type": "code",
   "execution_count": 119,
   "id": "9403b858-cbe0-47d4-ab1a-b0b95568ca8f",
   "metadata": {},
   "outputs": [
    {
     "data": {
      "text/plain": [
       "Index(['Poço', 'Extensão do Arquivo', 'Fonte dos Dados', 'Tipo de Geoquímica',\n",
       "       'Topo (m)', 'Base (m)', 'Cromatografia Gasosa', 'Cromatografia Líquida',\n",
       "       'Relatório', 'Análise de Óleo', 'Análise de Gás', 'Análise de Fluidos',\n",
       "       'Análise de Água', 'Biomarcadores', 'Aromáticos', 'Saturados',\n",
       "       'Isótopos', 'Espectrometria de Massas', 'Diamantoides',\n",
       "       'Carbono Orgânico Total', 'Pirólise', 'Inclusões Fluidas',\n",
       "       'Sumário de Óleo Cru', 'PVT', 'Re/Os de Asfaltenos', 'Litogeoquímica',\n",
       "       'Reflectância de Vitrinita', 'Viscosidade', 'CADASTRO', 'OPERADOR',\n",
       "       'ESTADO', 'BACIA', 'CAMPO', 'TITULARIDADE', 'LATITUDE', 'LONGITUDE',\n",
       "       'DATUM', 'DIRECAO'],\n",
       "      dtype='object')"
      ]
     },
     "execution_count": 119,
     "metadata": {},
     "output_type": "execute_result"
    }
   ],
   "source": [
    "df_geoq_2021.columns"
   ]
  },
  {
   "cell_type": "code",
   "execution_count": 80,
   "id": "61f6a3ec-34a9-44f1-baa9-bb932ec77e47",
   "metadata": {},
   "outputs": [
    {
     "name": "stdout",
     "output_type": "stream",
     "text": [
      "Erro ao carregar dados de 'reservas_nacionais_hc': Missing optional dependency 'openpyxl'.  Use pip or conda to install openpyxl.\n"
     ]
    }
   ],
   "source": [
    "df_reservas = load_data_from_source(\"reservas_nacionais_hc\", data_sources)"
   ]
  },
  {
   "cell_type": "code",
   "execution_count": null,
   "id": "9de22b38-bf98-4a42-b3c9-158520283e5f",
   "metadata": {},
   "outputs": [],
   "source": []
  }
 ],
 "metadata": {
  "kernelspec": {
   "display_name": "Python 3 (ipykernel)",
   "language": "python",
   "name": "python3"
  },
  "language_info": {
   "codemirror_mode": {
    "name": "ipython",
    "version": 3
   },
   "file_extension": ".py",
   "mimetype": "text/x-python",
   "name": "python",
   "nbconvert_exporter": "python",
   "pygments_lexer": "ipython3",
   "version": "3.12.7"
  }
 },
 "nbformat": 4,
 "nbformat_minor": 5
}
